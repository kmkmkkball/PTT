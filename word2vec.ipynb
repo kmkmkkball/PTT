{
 "cells": [
  {
   "cell_type": "code",
   "execution_count": 3,
   "metadata": {},
   "outputs": [],
   "source": [
    "import logging\n",
    "import sys\n",
    "from gensim.corpora import WikiCorpus"
   ]
  },
  {
   "cell_type": "code",
   "execution_count": null,
   "metadata": {
    "collapsed": true
   },
   "outputs": [],
   "source": [
    "def main():\n",
    "    if len(sys.argv) != 2:\n",
    "        print(\"Usage: python3 \" + sys.argv[0] + \" wiki_data_path\")\n",
    "        exit()\n",
    "        \n",
    "    logging.basicConfig(format=\"%(asctime)s : %(levelname)s : %(message)s\", level = logging.INFO)\n",
    "    wiki_corpus = WikiCorpus(sys.argv[1], dictionary = {})\n",
    "    \n",
    "    texts_num = 0\n",
    "    \n",
    "    with open(\"wiki_texts.txt\", \"w\", encoding = \"utf-8\") as output:\n",
    "        for text in wiki_corpus.get"
   ]
  }
 ],
 "metadata": {
  "kernelspec": {
   "display_name": "Python 3",
   "language": "python",
   "name": "python3"
  },
  "language_info": {
   "codemirror_mode": {
    "name": "ipython",
    "version": 3
   },
   "file_extension": ".py",
   "mimetype": "text/x-python",
   "name": "python",
   "nbconvert_exporter": "python",
   "pygments_lexer": "ipython3",
   "version": "3.6.1"
  }
 },
 "nbformat": 4,
 "nbformat_minor": 2
}
