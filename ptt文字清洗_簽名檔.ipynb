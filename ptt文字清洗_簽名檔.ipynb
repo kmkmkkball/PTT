{
 "cells": [
  {
   "cell_type": "code",
   "execution_count": 4,
   "metadata": {
    "collapsed": true
   },
   "outputs": [],
   "source": [
    "import requests\n",
    "from bs4 import BeautifulSoup\n",
    "import re\n",
    "import time\n",
    "import concurrent.futures\n",
    "from pymongo import MongoClient\n",
    "client = MongoClient('10.120.27.11', 27017)\n",
    "db = client.text_mining\n",
    "collection = db.ptt_food_v2\n",
    "collection2 = db.ptt_food_v3"
   ]
  },
  {
   "cell_type": "code",
   "execution_count": 5,
   "metadata": {
    "collapsed": true
   },
   "outputs": [],
   "source": [
    "all = db.ptt_food_v2.find()"
   ]
  },
  {
   "cell_type": "code",
   "execution_count": 6,
   "metadata": {},
   "outputs": [
    {
     "data": {
      "text/plain": [
       "<pymongo.results.InsertManyResult at 0x4e4a0d88>"
      ]
     },
     "execution_count": 6,
     "metadata": {},
     "output_type": "execute_result"
    }
   ],
   "source": [
    "aaa =[]\n",
    "for article in all:\n",
    "    try: \n",
    "        if len(article[\"內文\"].split(\"--\")) == 3:\n",
    "#             print(article[\"內文\"])\n",
    "            abc = article['內文'].split(\"--\")[0]\n",
    "            article['內文'] = abc\n",
    "            aaa.append(article)\n",
    "        else:\n",
    "            aaa.append(article)\n",
    "    except Exception as e:\n",
    "        print(e)\n",
    "    \n",
    "collection2.insert_many(aaa)"
   ]
  },
  {
   "cell_type": "code",
   "execution_count": null,
   "metadata": {
    "collapsed": true
   },
   "outputs": [],
   "source": []
  }
 ],
 "metadata": {
  "kernelspec": {
   "display_name": "Python 3",
   "language": "python",
   "name": "python3"
  },
  "language_info": {
   "codemirror_mode": {
    "name": "ipython",
    "version": 3
   },
   "file_extension": ".py",
   "mimetype": "text/x-python",
   "name": "python",
   "nbconvert_exporter": "python",
   "pygments_lexer": "ipython3",
   "version": "3.6.1"
  }
 },
 "nbformat": 4,
 "nbformat_minor": 2
}
