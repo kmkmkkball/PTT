{
 "cells": [
  {
   "cell_type": "code",
   "execution_count": 7,
   "metadata": {
    "collapsed": true
   },
   "outputs": [],
   "source": [
    "import pymongo\n",
    "from pymongo import MongoClient\n",
    "client = MongoClient('10.120.27.11', 27017)\n",
    "db=client[\"text_mining\"]"
   ]
  },
  {
   "cell_type": "code",
   "execution_count": 5,
   "metadata": {
    "collapsed": true
   },
   "outputs": [],
   "source": [
    "collection = db[\"ptt_food_v5\"]\n",
    "collection2 = db[\"ptt_food_v6\"]"
   ]
  },
  {
   "cell_type": "code",
   "execution_count": 4,
   "metadata": {
    "collapsed": true
   },
   "outputs": [],
   "source": [
    "jin9 = collection.find({\"$or\":[{\"內文\":{'$regex':\"京都\"}},{\"內文\":{'$regex':\"二條城\"}},{\"內文\":{'$regex':\"三十三間堂\"}},{\"內文\":{'$regex':\"千本鳥居\"}},{\"內文\":{'$regex':\"平等院鳳凰堂\"}},{\"內文\":{'$regex':\"京都御\"}},{\"內文\":{'$regex':\"京都塔\"}},{\"內文\":{'$regex':\"金閣寺\"}},{\"內文\":{'$regex':\"清水寺\"}},{\"內文\":{'$regex':\"渡月橋\"}},{\"內文\":{'$regex':\"蓮華王院\"}},{\"內文\":{'$regex':\"伏見稻\"}},{\"內文\":{'$regex':\"鹿苑寺\"}},{\"內文\":{'$regex':\"嵐山\"}}]})"
   ]
  },
  {
   "cell_type": "code",
   "execution_count": 6,
   "metadata": {},
   "outputs": [
    {
     "name": "stderr",
     "output_type": "stream",
     "text": [
      "C:\\Users\\Java\\Anaconda3\\lib\\site-packages\\ipykernel_launcher.py:2: DeprecationWarning: insert is deprecated. Use insert_one or insert_many instead.\n",
      "  \n"
     ]
    }
   ],
   "source": [
    "for jin9s in jin9:\n",
    "    collection2.insert(jin9s)"
   ]
  },
  {
   "cell_type": "code",
   "execution_count": null,
   "metadata": {
    "collapsed": true
   },
   "outputs": [],
   "source": []
  },
  {
   "cell_type": "code",
   "execution_count": null,
   "metadata": {
    "collapsed": true
   },
   "outputs": [],
   "source": []
  },
  {
   "cell_type": "code",
   "execution_count": null,
   "metadata": {
    "collapsed": true
   },
   "outputs": [],
   "source": []
  },
  {
   "cell_type": "code",
   "execution_count": 8,
   "metadata": {
    "collapsed": true
   },
   "outputs": [],
   "source": [
    "collection = db[\"ptt_food_v4\"]\n",
    "collection2 = db[\"ptt_food_<3\"]"
   ]
  },
  {
   "cell_type": "code",
   "execution_count": 9,
   "metadata": {
    "collapsed": true
   },
   "outputs": [],
   "source": [
    "jin9 = collection.find({\"$or\":[{\"內文\":{'$regex':\"京都\"}},{\"內文\":{'$regex':\"二條城\"}},{\"內文\":{'$regex':\"三十三間堂\"}},{\"內文\":{'$regex':\"千本鳥居\"}},{\"內文\":{'$regex':\"平等院鳳凰堂\"}},{\"內文\":{'$regex':\"京都御\"}},{\"內文\":{'$regex':\"京都塔\"}},{\"內文\":{'$regex':\"金閣寺\"}},{\"內文\":{'$regex':\"清水寺\"}},{\"內文\":{'$regex':\"渡月橋\"}},{\"內文\":{'$regex':\"蓮華王院\"}},{\"內文\":{'$regex':\"伏見稻\"}},{\"內文\":{'$regex':\"鹿苑寺\"}},{\"內文\":{'$regex':\"嵐山\"}}]})"
   ]
  },
  {
   "cell_type": "code",
   "execution_count": 10,
   "metadata": {},
   "outputs": [
    {
     "name": "stderr",
     "output_type": "stream",
     "text": [
      "C:\\Users\\Java\\Anaconda3\\lib\\site-packages\\ipykernel_launcher.py:2: DeprecationWarning: insert is deprecated. Use insert_one or insert_many instead.\n",
      "  \n"
     ]
    }
   ],
   "source": [
    "for jin9s in jin9:\n",
    "    collection2.insert(jin9s)"
   ]
  },
  {
   "cell_type": "code",
   "execution_count": null,
   "metadata": {
    "collapsed": true
   },
   "outputs": [],
   "source": []
  },
  {
   "cell_type": "code",
   "execution_count": null,
   "metadata": {
    "collapsed": true
   },
   "outputs": [],
   "source": []
  },
  {
   "cell_type": "code",
   "execution_count": null,
   "metadata": {
    "collapsed": true
   },
   "outputs": [],
   "source": []
  },
  {
   "cell_type": "code",
   "execution_count": 11,
   "metadata": {
    "collapsed": true
   },
   "outputs": [],
   "source": [
    "collection2 = db[\"ptt_food_<3\"]"
   ]
  },
  {
   "cell_type": "code",
   "execution_count": 16,
   "metadata": {
    "collapsed": true
   },
   "outputs": [],
   "source": [
    "a = collection2.find({\"內文\":{\"$regex\":\"新竹縣竹北市莊敬三路116號\"}})"
   ]
  },
  {
   "cell_type": "code",
   "execution_count": 17,
   "metadata": {},
   "outputs": [
    {
     "data": {
      "text/plain": [
       "2"
      ]
     },
     "execution_count": 17,
     "metadata": {},
     "output_type": "execute_result"
    }
   ],
   "source": [
    "collection2.find({\"內文\":{\"$regex\":\"新竹縣竹北市莊敬三路116號\"}}).count()"
   ]
  },
  {
   "cell_type": "code",
   "execution_count": 18,
   "metadata": {},
   "outputs": [
    {
     "name": "stdout",
     "output_type": "stream",
     "text": [
      "{'_id': ObjectId('59b17cf0aadaed2178ef9293'), '作者': 'netpp', '日期': '2013-5-12', '標題': '[食記] 新竹竹北  明森宇治抹茶專賣店', 'url': 'https://www.ptt.cc/bbs/Food/M.1368352401.A.145.html', '內文': '[食記] 新竹竹北  明森宇治抹茶專賣店時間Sun May 12 17:53:18 2013\\n   明森宇治抹茶專賣店 (竹北店)\\n   消費時間：2013/04/27\\n   地址：新竹縣竹北市莊敬三路116號\\n   電話：(03)6588986\\n   營業時間：11:00~21:30 (週五、週六延至22:00)\\n\\n   圖文網誌：http://netpp.blogspot.com/2013/05/blog-post.html\\n\\n\\n純文字\\n之前在台中唸書的時候就知道這間店   那時候一直很感興趣\\n後來心血來潮想去的時候  結果因為人氣太高了   整個就是大爆滿  等也等不到\\n從那此之後也就沒有想說要再去拜訪了\\n之後得知竹北也有分店後又重心燃起了興趣  於是就找了一個天氣不錯的下午過去\\n\\n\\n\\n雖然說有造景  不過不像台中有室外的座位\\n\\n\\n\\n果然開到新竹來之後人氣還不減   店內也是坐了滿滿的客人\\n\\n\\n\\n不過好在有客人訂位的時間較晚   服務生在詢問我們的意見後便帶我們入座\\n雖然只有一個小時的用餐時間  但我想只吃些小東西應該是足夠的\\n\\n菜單\\n厚厚一本內容及頁數還蠻多的  所以就請直接參考相簿\\n\\n\\n\\n下午茶套餐可以選擇菜單內的一份甜點和一杯飲料  (除了標記單點項目除外)\\n280元+10%  還算是可以接受的價位\\n當然如果吃正餐的話這兒也有不少的餐點可以選擇  只是價格個人覺得頗高的就是\\n\\n抹茶拿鐵\\n抹茶的香氣很濃   帶點微微的苦味\\n另外似乎沒加什麼糖  喝起來僅有淡淡的甜味(可能是來自奶泡)\\n個人還蠻愛抹茶的  所以覺得相當好喝！\\n\\n\\n\\n\\n芝麻抹茶拿鐵\\n據友人說喝起來非常的芝麻！！\\n\\n\\n\\n京都和風抹茶鬆餅\\n看起來是不是很豐盛 ！！\\n\\n\\n\\n瞧瞧這鬆餅的厚度   份量十足啊！\\n這兒的鬆餅表皮不像外頭的吃起來那麼酥脆  取而代之是鬆軟的口感\\n而且每一口都有抹茶的香氣\\n\\n\\n\\n冰淇淋同樣也是有濃濃的抹茶香  以及綿密的紅豆  兩者都不甜不膩\\n用附上的木刀和木叉將冰淇淋和紅豆抹上鬆餅 滋味真是豐富\\n倒是一旁的抹茶凍個人就覺得普通些\\n因為份量還蠻實在的  即使個人在沒有吃中餐的狀態下   大概吃不到三塊鬆就飽了\\n\\n\\n\\n宇治抹茶金時\\n氣勢好像就沒有鬆餅來得強XD\\n友人倒是覺得白玉糰子很Q又好吃....\\n宇治金時的話個人還是首推桃園的tama tama慢食堂....份量大又便宜  可惜距離遠了點！\\n\\n\\n\\n\\n如果對抹茶點心有興趣的話不妨選擇在下午兩點到五點的時間來拜訪\\n這段時間的下午茶套餐價格會划算不少   而且過來之前記得還是先訂個位比較好\\n避免撲了個空而打壞了興致！！\\n\\n', '回文': [], '來源': 'PTT'}\n",
      "----------------------------------------------------------------------------------------------------\n",
      "{'_id': ObjectId('59b1659eaadaed087421a144'), '作者': 'cumulushui', '日期': '2012-9-12', '標題': '[食記] 竹北 - 明森與治抹茶專賣店', 'url': 'https://www.ptt.cc/bbs/Food/M.1347441333.A.206.html', '內文': '[食記] 竹北 - 明森與治抹茶專賣店時間Wed Sep 12 17:15:31 2012\\n\\n   餐廳名稱：明森宇治抹茶專賣\\n   消費時間：2012年/9月\\n   地址：新竹縣竹北市莊敬三路116號\\n   電話：03-6588986\\n   營業時間：11:00~21:30\\n   每人平均價位：280~400元\\n   可否刷卡：可\\n   有無包廂：無\\n\\n   好讀網誌版：http://ppt.cc/WrYE\\n\\n心得分享：\\n\\n這家日式茶房是同事介紹的，店裡的裝潢也是我喜歡的風格，\\n因為他賣的是\"抹茶\"為主的商品，\\n所以我一直沒有想來的慾望(本人不愛茶類製品)，\\n但是又找不到什麼新的、我喜歡的午茶店，\\n所以最後還是決定來這，而且這裡離體育場也很近。\\n我沒有先訂位，結果2點多到的時候沒有位置，要等到4點才有，\\n所以我們留下電話後先去星巴克殺時間，下次還是要先訂位才行呀。\\n\\n大概3點半就接到來電，說有位置了\\n這裡除了下午茶點心之外，還有賣正餐，\\n假日下午也有供餐，4點多真是個尷尬的時間，吃飯太早，\\n吃下午茶套餐的話，等等應該又會吃不下晚餐\\n(原本晚餐是預訂去吃附近的牧野小館)，\\n後來四個人決定點兩份主餐，兩份下午茶套餐。\\n對了，假日用餐時間是2小時。\\n\\n我點的下午茶套餐(280元)：芝麻抹茶拿鐵和京都焙茶冰淇淋，\\n沒辦法全部都是\"茶\"的東西，只好硬著頭皮點了，\\n芝麻抹茶拿鐵喝起來是濃郁的口感，芝麻淡淡的香氣，\\n抹茶味道不是很重，我還能接受，還不錯喝呢！\\n\\n京都焙茶冰淇淋，這冰淇淋好好吃喔，\\n很黏稠、茶和牛奶味道調和得很好，\\n看來我也能漸漸接受\"茶\"製品了！\\n\\n餐點是 - 總匯海鮮丼飯(480元)，有點貴。\\n但是非常豐盛，食材也新鮮。\\n主餐甜點和飲料，甜點是手工製作的日式糕點，\\n裡面有紅豆泥，我覺得很好吃，但是不受其他人青睞！(他們吃太飽了)，\\n飲料是冰抹茶。\\n\\n另一份下午茶套餐：抹香檸檬露和抹茶鬆餅。\\n抹香檸檬露就是清爽的飲料啦，抹茶和檸檬還蠻搭的呢。\\n這飲品之前在台北akuma caca也喝過，很不錯。\\n\\n抹茶鬆餅應該是這家店的招牌吧，大家似乎都會點，\\n第一次來的我們當然也要點一下囉！\\n是厚厚的鬆餅，但最近我對鬆餅沒甚麼興趣，\\n所以吃起來沒有太大的感覺，就是好吃的鬆餅囉！\\n抹茶冰淇淋我就沒吃啦，因為我已經有焙茶冰淇淋了！\\n\\n另一份套餐是鮮鮭丼飯(380元)，因為總匯海鮮料比較豐盛，\\n所以我就沒拍鮮鮭丼飯了！鮭魚蓋得滿滿的，份量感覺蠻多的！\\n\\n但結論是 - 價位有點太高，四個人總更吃了1500多元，\\n因為還要加一成服務費。\\n但如果只吃下午茶的話，還能接受。\\n\\n\\n--\\n', '回文': [], '來源': 'PTT'}\n",
      "----------------------------------------------------------------------------------------------------\n"
     ]
    }
   ],
   "source": [
    "for b in a:\n",
    "    print(b)\n",
    "    print(\"--\"*50)"
   ]
  },
  {
   "cell_type": "code",
   "execution_count": null,
   "metadata": {
    "collapsed": true
   },
   "outputs": [],
   "source": []
  }
 ],
 "metadata": {
  "kernelspec": {
   "display_name": "Python 3",
   "language": "python",
   "name": "python3"
  },
  "language_info": {
   "codemirror_mode": {
    "name": "ipython",
    "version": 3
   },
   "file_extension": ".py",
   "mimetype": "text/x-python",
   "name": "python",
   "nbconvert_exporter": "python",
   "pygments_lexer": "ipython3",
   "version": "3.6.1"
  }
 },
 "nbformat": 4,
 "nbformat_minor": 2
}
