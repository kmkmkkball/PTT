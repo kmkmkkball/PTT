{
 "cells": [
  {
   "cell_type": "code",
   "execution_count": 54,
   "metadata": {
    "collapsed": true
   },
   "outputs": [],
   "source": [
    "import pymongo\n",
    "from pymongo import MongoClient\n",
    "client = MongoClient('10.120.27.11', 27017)"
   ]
  },
  {
   "cell_type": "code",
   "execution_count": 55,
   "metadata": {
    "collapsed": true
   },
   "outputs": [],
   "source": [
    "db=client[\"text_mining\"]"
   ]
  },
  {
   "cell_type": "code",
   "execution_count": null,
   "metadata": {
    "collapsed": true
   },
   "outputs": [],
   "source": []
  },
  {
   "cell_type": "code",
   "execution_count": 43,
   "metadata": {
    "collapsed": true
   },
   "outputs": [],
   "source": [
    "A = \"二條城_Titlize\"\n",
    "A2016 = \"二條城2016\"\n",
    "B = \"三十三間堂_Titlize\"\n",
    "B2016 = \"三十三間堂2016_Titlize\"\n",
    "C = \"千本鳥居_Titlize\"\n",
    "C2016 = \"千本鳥居2016_Titlize\"\n",
    "D = \"平等院鳳凰堂_Titlize\"\n",
    "D2016 = \"平等院鳳凰堂2016_Titlize\"\n",
    "E = \"京都御所_Titlize\"\n",
    "E2016 = \"京都御所2016_Titlize\"\n",
    "F = \"京都塔_Titlize\"\n",
    "F2016 = \"京都塔2016_Titlize\"\n",
    "G = \"金閣寺_Titlize\"\n",
    "G2016 = \"金閣寺2016_Titlize\"\n",
    "H = \"清水寺_Titlize\"\n",
    "H2016 = \"清水寺2016_Titlize\"\n",
    "I = \"渡月橋_Titlize\"\n",
    "I2016 = \"渡月橋2016_Titlize\"\n",
    "table = [A, B, C, D, E, F, G, H, I]"
   ]
  },
  {
   "cell_type": "code",
   "execution_count": 46,
   "metadata": {},
   "outputs": [
    {
     "name": "stderr",
     "output_type": "stream",
     "text": [
      "C:\\Users\\Java\\Anaconda3\\lib\\site-packages\\ipykernel_launcher.py:8: DeprecationWarning: insert is deprecated. Use insert_one or insert_many instead.\n",
      "  \n"
     ]
    },
    {
     "name": "stdout",
     "output_type": "stream",
     "text": [
      "26930\n"
     ]
    }
   ],
   "source": [
    "count = 0\n",
    "for tables in table:\n",
    "    collection=db[tables]\n",
    "    a = collection.find({})\n",
    "    for b in a:\n",
    "        try:\n",
    "            collection = db[\"Titlize_all\"]\n",
    "            collection.insert(b) \n",
    "        except:\n",
    "            count += 1\n",
    "            pass\n",
    "print(count)  "
   ]
  },
  {
   "cell_type": "code",
   "execution_count": 45,
   "metadata": {},
   "outputs": [
    {
     "name": "stdout",
     "output_type": "stream",
     "text": [
      "26930\n"
     ]
    }
   ],
   "source": [
    "count = 0\n",
    "for tables in table:\n",
    "    collection=db[tables]\n",
    "    a = collection.find({}).count()\n",
    "    count += a\n",
    "print(count)"
   ]
  },
  {
   "cell_type": "code",
   "execution_count": 56,
   "metadata": {
    "collapsed": true
   },
   "outputs": [],
   "source": [
    "A = \"ptt_article\"\n",
    "B = \"mobile01_article\"\n",
    "C = \"pixnet\"\n",
    "D = \"odigo\"\n",
    "table = [A, B, C, D]"
   ]
  },
  {
   "cell_type": "code",
   "execution_count": 58,
   "metadata": {},
   "outputs": [
    {
     "name": "stderr",
     "output_type": "stream",
     "text": [
      "C:\\Users\\Java\\Anaconda3\\lib\\site-packages\\ipykernel_launcher.py:6: DeprecationWarning: insert is deprecated. Use insert_one or insert_many instead.\n",
      "  \n"
     ]
    }
   ],
   "source": [
    "for tables in table:\n",
    "    collection = db[tables]\n",
    "    a = collection.find({\"$or\":[{\"內文\":{'$regex':\"京都\"}},{\"type.0.二條城\" :1},{\"type.1.三十三間堂\" :1},{\"type.2.千本鳥居\" :1},{\"type.3.平等院鳳凰堂\" :1},{\"type.4.京都御所\" :1},{\"type.5.京都塔\" :1},{\"type.6.金閣寺\" :1},{\"type.7.清水寺\" :1},{\"type.8.渡月橋\" :1}]})\n",
    "    for b in a:\n",
    "        collection = db[\"Kyoto\"]\n",
    "        collection.insert(b)"
   ]
  },
  {
   "cell_type": "code",
   "execution_count": null,
   "metadata": {
    "collapsed": true
   },
   "outputs": [],
   "source": []
  },
  {
   "cell_type": "code",
   "execution_count": 60,
   "metadata": {},
   "outputs": [
    {
     "name": "stderr",
     "output_type": "stream",
     "text": [
      "C:\\Users\\Java\\Anaconda3\\lib\\site-packages\\ipykernel_launcher.py:7: DeprecationWarning: insert is deprecated. Use insert_one or insert_many instead.\n",
      "  import sys\n"
     ]
    }
   ],
   "source": [
    "collection=db[\"Kyoto\"]\n",
    "a = collection.find({})\n",
    "for b in a:\n",
    "    abc = b[\"內文\"].title()\n",
    "    b[\"內文\"] = \"\".join([char for char in abc if '\\u4e00' <= char <= '\\u9fff' or '\\u3040' <= char <= '\\u309F' or '\\u0041' <= char <= '\\u005A' or '\\u0061' <= char <= '\\u007A']).replace(\" \",\"\").replace(\"　\",\"\")\n",
    "    collection = db[\"Kyoto_Titlize\"]\n",
    "    collection.insert(b) "
   ]
  },
  {
   "cell_type": "code",
   "execution_count": null,
   "metadata": {
    "collapsed": true
   },
   "outputs": [],
   "source": []
  },
  {
   "cell_type": "code",
   "execution_count": null,
   "metadata": {
    "collapsed": true
   },
   "outputs": [],
   "source": []
  },
  {
   "cell_type": "code",
   "execution_count": null,
   "metadata": {
    "collapsed": true
   },
   "outputs": [],
   "source": []
  },
  {
   "cell_type": "code",
   "execution_count": null,
   "metadata": {
    "collapsed": true
   },
   "outputs": [],
   "source": []
  },
  {
   "cell_type": "code",
   "execution_count": null,
   "metadata": {
    "collapsed": true
   },
   "outputs": [],
   "source": []
  },
  {
   "cell_type": "code",
   "execution_count": null,
   "metadata": {
    "collapsed": true
   },
   "outputs": [],
   "source": [
    "collection=db[A]\n",
    "a1 = collection.find({\"type.0.二條城\" :1})"
   ]
  },
  {
   "cell_type": "code",
   "execution_count": null,
   "metadata": {
    "collapsed": true
   },
   "outputs": [],
   "source": []
  },
  {
   "cell_type": "code",
   "execution_count": null,
   "metadata": {
    "collapsed": true
   },
   "outputs": [],
   "source": []
  },
  {
   "cell_type": "code",
   "execution_count": null,
   "metadata": {
    "collapsed": true
   },
   "outputs": [],
   "source": []
  },
  {
   "cell_type": "code",
   "execution_count": 40,
   "metadata": {},
   "outputs": [
    {
     "data": {
      "text/plain": [
       "0"
      ]
     },
     "execution_count": 40,
     "metadata": {},
     "output_type": "execute_result"
    }
   ],
   "source": [
    "db.金閣寺.find({\"內文\":\"痞客幫\"}).count()"
   ]
  },
  {
   "cell_type": "code",
   "execution_count": 8,
   "metadata": {
    "collapsed": true
   },
   "outputs": [],
   "source": [
    "client.close()"
   ]
  },
  {
   "cell_type": "code",
   "execution_count": 47,
   "metadata": {},
   "outputs": [
    {
     "data": {
      "text/plain": [
       "12841"
      ]
     },
     "execution_count": 47,
     "metadata": {},
     "output_type": "execute_result"
    }
   ],
   "source": [
    "db.ptt_article.find({\"$and\":[{\"內文\":{'$regex':\"京都\"}},{\"type.0.二條城\" :0},{\"type.1.三十三間堂\" :0},{\"type.2.千本鳥居\" :0},{\"type.3.平等院鳳凰堂\" :0},{\"type.4.京都御所\" :0},{\"type.5.京都塔\" :0},{\"type.6.金閣寺\" :0},{\"type.7.清水寺\" :0},{\"type.8.渡月橋\" :0}]}).count()"
   ]
  },
  {
   "cell_type": "code",
   "execution_count": 48,
   "metadata": {},
   "outputs": [
    {
     "data": {
      "text/plain": [
       "1028"
      ]
     },
     "execution_count": 48,
     "metadata": {},
     "output_type": "execute_result"
    }
   ],
   "source": [
    "db.mobile01_article.find({\"$and\":[{\"內文\":{'$regex':\"京都\"}},{\"type.0.二條城\" :0},{\"type.1.三十三間堂\" :0},{\"type.2.千本鳥居\" :0},{\"type.3.平等院鳳凰堂\" :0},{\"type.4.京都御所\" :0},{\"type.5.京都塔\" :0},{\"type.6.金閣寺\" :0},{\"type.7.清水寺\" :0},{\"type.8.渡月橋\" :0}]}).count()"
   ]
  },
  {
   "cell_type": "code",
   "execution_count": 49,
   "metadata": {},
   "outputs": [
    {
     "data": {
      "text/plain": [
       "935"
      ]
     },
     "execution_count": 49,
     "metadata": {},
     "output_type": "execute_result"
    }
   ],
   "source": [
    "db.odigo.find({\"$and\":[{\"內文\":{'$regex':\"京都\"}},{\"type.0.二條城\" :0},{\"type.1.三十三間堂\" :0},{\"type.2.千本鳥居\" :0},{\"type.3.平等院鳳凰堂\" :0},{\"type.4.京都御所\" :0},{\"type.5.京都塔\" :0},{\"type.6.金閣寺\" :0},{\"type.7.清水寺\" :0},{\"type.8.渡月橋\" :0}]}).count()"
   ]
  },
  {
   "cell_type": "code",
   "execution_count": 50,
   "metadata": {},
   "outputs": [
    {
     "data": {
      "text/plain": [
       "5820"
      ]
     },
     "execution_count": 50,
     "metadata": {},
     "output_type": "execute_result"
    }
   ],
   "source": [
    "db.pixnet.find({\"$and\":[{\"內文\":{'$regex':\"京都\"}},{\"type.0.二條城\" :0},{\"type.1.三十三間堂\" :0},{\"type.2.千本鳥居\" :0},{\"type.3.平等院鳳凰堂\" :0},{\"type.4.京都御所\" :0},{\"type.5.京都塔\" :0},{\"type.6.金閣寺\" :0},{\"type.7.清水寺\" :0},{\"type.8.渡月橋\" :0}]}).count()"
   ]
  },
  {
   "cell_type": "code",
   "execution_count": null,
   "metadata": {
    "collapsed": true
   },
   "outputs": [],
   "source": []
  },
  {
   "cell_type": "code",
   "execution_count": null,
   "metadata": {
    "collapsed": true
   },
   "outputs": [],
   "source": []
  },
  {
   "cell_type": "code",
   "execution_count": null,
   "metadata": {
    "collapsed": true
   },
   "outputs": [],
   "source": []
  },
  {
   "cell_type": "code",
   "execution_count": null,
   "metadata": {
    "collapsed": true
   },
   "outputs": [],
   "source": []
  },
  {
   "cell_type": "code",
   "execution_count": null,
   "metadata": {
    "collapsed": true
   },
   "outputs": [],
   "source": []
  },
  {
   "cell_type": "code",
   "execution_count": null,
   "metadata": {
    "collapsed": true
   },
   "outputs": [],
   "source": []
  },
  {
   "cell_type": "code",
   "execution_count": null,
   "metadata": {
    "collapsed": true
   },
   "outputs": [],
   "source": []
  },
  {
   "cell_type": "code",
   "execution_count": null,
   "metadata": {
    "collapsed": true
   },
   "outputs": [],
   "source": []
  },
  {
   "cell_type": "code",
   "execution_count": null,
   "metadata": {
    "collapsed": true
   },
   "outputs": [],
   "source": []
  },
  {
   "cell_type": "code",
   "execution_count": null,
   "metadata": {
    "collapsed": true
   },
   "outputs": [],
   "source": []
  },
  {
   "cell_type": "code",
   "execution_count": null,
   "metadata": {
    "collapsed": true
   },
   "outputs": [],
   "source": []
  }
 ],
 "metadata": {
  "kernelspec": {
   "display_name": "Python 3",
   "language": "python",
   "name": "python3"
  },
  "language_info": {
   "codemirror_mode": {
    "name": "ipython",
    "version": 3
   },
   "file_extension": ".py",
   "mimetype": "text/x-python",
   "name": "python",
   "nbconvert_exporter": "python",
   "pygments_lexer": "ipython3",
   "version": "3.6.1"
  }
 },
 "nbformat": 4,
 "nbformat_minor": 2
}
