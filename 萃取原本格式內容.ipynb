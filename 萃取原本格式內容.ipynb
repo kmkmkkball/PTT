{
 "cells": [
  {
   "cell_type": "code",
   "execution_count": 1,
   "metadata": {
    "collapsed": true
   },
   "outputs": [],
   "source": [
    "import pymongo\n",
    "from pymongo import MongoClient\n",
    "import re\n",
    "import json"
   ]
  },
  {
   "cell_type": "code",
   "execution_count": 2,
   "metadata": {
    "collapsed": true
   },
   "outputs": [],
   "source": [
    "src = \"ptt_food_<3\""
   ]
  },
  {
   "cell_type": "code",
   "execution_count": 3,
   "metadata": {
    "collapsed": true
   },
   "outputs": [],
   "source": [
    "conn = MongoClient('10.120.27.11', 27017)  ##連 Mongodb\n",
    "db = conn.text_mining  ##創造DB  改程式碼的時候注意一下 這行的DB也要改\n",
    "db.authenticate('text_mining', 'bb102', source='text_mining')  # text_mining帳號 #bb102密碼 #test123允許儲存的db\n",
    "collection = db[src]  ##創造collection"
   ]
  },
  {
   "cell_type": "code",
   "execution_count": 59,
   "metadata": {
    "collapsed": true
   },
   "outputs": [],
   "source": [
    "conn.close()"
   ]
  },
  {
   "cell_type": "code",
   "execution_count": 5,
   "metadata": {
    "collapsed": true
   },
   "outputs": [],
   "source": [
    "articleList = []\n",
    "for item in collection.find({}, {\"內文\": 1, \"_id\": 0}):  # for others\n",
    "    if item != {}:\n",
    "        articleList.append(item)"
   ]
  },
  {
   "cell_type": "code",
   "execution_count": 6,
   "metadata": {
    "collapsed": true
   },
   "outputs": [],
   "source": [
    "articles = []\n",
    "for atc in articleList:\n",
    "    article1 = atc.get('內文') #.split(\"※ 發信站\")[0].lower()\n",
    "    #article2 = \"\".join([i for i in filter(lambda ch: ch not in ignore, article1)])  # 去掉數字和特殊符號              \n",
    "    articles.append(article1.replace(\" \",\"\").replace(\"　\", \"\").replace(u'\\u200b', ''))"
   ]
  },
  {
   "cell_type": "code",
   "execution_count": 63,
   "metadata": {},
   "outputs": [
    {
     "data": {
      "text/plain": [
       "'[食記]新竹竹北明森宇治抹茶專賣店時間SunMay1217:53:182013\\n明森宇治抹茶專賣店(竹北店)\\n消費時間：2013/04/27\\n地址：新竹縣竹北市莊敬三路116號\\n電話：(03)6588986\\n營業時間：11:00~21:30(週五、週六延至22:00)\\n\\n圖文網誌：http://netpp.blogspot.com/2013/05/blog-post.html\\n\\n\\n純文字\\n之前在台中唸書的時候就知道這間店那時候一直很感興趣\\n後來心血來潮想去的時候結果因為人氣太高了整個就是大爆滿等也等不到\\n從那此之後也就沒有想說要再去拜訪了\\n之後得知竹北也有分店後又重心燃起了興趣於是就找了一個天氣不錯的下午過去\\n\\n\\n\\n雖然說有造景不過不像台中有室外的座位\\n\\n\\n\\n果然開到新竹來之後人氣還不減店內也是坐了滿滿的客人\\n\\n\\n\\n不過好在有客人訂位的時間較晚服務生在詢問我們的意見後便帶我們入座\\n雖然只有一個小時的用餐時間但我想只吃些小東西應該是足夠的\\n\\n菜單\\n厚厚一本內容及頁數還蠻多的所以就請直接參考相簿\\n\\n\\n\\n下午茶套餐可以選擇菜單內的一份甜點和一杯飲料(除了標記單點項目除外)\\n280元+10%還算是可以接受的價位\\n當然如果吃正餐的話這兒也有不少的餐點可以選擇只是價格個人覺得頗高的就是\\n\\n抹茶拿鐵\\n抹茶的香氣很濃帶點微微的苦味\\n另外似乎沒加什麼糖喝起來僅有淡淡的甜味(可能是來自奶泡)\\n個人還蠻愛抹茶的所以覺得相當好喝！\\n\\n\\n\\n\\n芝麻抹茶拿鐵\\n據友人說喝起來非常的芝麻！！\\n\\n\\n\\n京都和風抹茶鬆餅\\n看起來是不是很豐盛！！\\n\\n\\n\\n瞧瞧這鬆餅的厚度份量十足啊！\\n這兒的鬆餅表皮不像外頭的吃起來那麼酥脆取而代之是鬆軟的口感\\n而且每一口都有抹茶的香氣\\n\\n\\n\\n冰淇淋同樣也是有濃濃的抹茶香以及綿密的紅豆兩者都不甜不膩\\n用附上的木刀和木叉將冰淇淋和紅豆抹上鬆餅滋味真是豐富\\n倒是一旁的抹茶凍個人就覺得普通些\\n因為份量還蠻實在的即使個人在沒有吃中餐的狀態下大概吃不到三塊鬆就飽了\\n\\n\\n\\n宇治抹茶金時\\n氣勢好像就沒有鬆餅來得強XD\\n友人倒是覺得白玉糰子很Q又好吃....\\n宇治金時的話個人還是首推桃園的tamatama慢食堂....份量大又便宜可惜距離遠了點！\\n\\n\\n\\n\\n如果對抹茶點心有興趣的話不妨選擇在下午兩點到五點的時間來拜訪\\n這段時間的下午茶套餐價格會划算不少而且過來之前記得還是先訂個位比較好\\n避免撲了個空而打壞了興致！！\\n\\n'"
      ]
     },
     "execution_count": 63,
     "metadata": {},
     "output_type": "execute_result"
    }
   ],
   "source": [
    "articles[2]"
   ]
  },
  {
   "cell_type": "code",
   "execution_count": 7,
   "metadata": {
    "scrolled": true
   },
   "outputs": [],
   "source": [
    "# [食記]\n",
    "# 餐廳名稱：\n",
    "# 消費時間：年/月\n",
    "# 地址：(標題內文皆請附上地區)\n",
    "# 電話：\n",
    "# 營業時間：\n",
    "# 每人平均價位：\n",
    "# 可否刷卡：\n",
    "# 有無包廂：\n",
    "# 推薦菜色：\n",
    "# 官網：\n",
    "\n",
    "name = re.findall(\"餐廳名稱：(.*)\", articles[1])\n",
    "Ctime = re.findall(\"消費時間：.*\", articles[1])\n",
    "add = re.findall(\"地址：.*\", articles[1])\n",
    "tel = re.findall(\"電話：.*\", articles[1])\n",
    "Btime = re.findall(\"營業時間：.*\", articles[1])\n",
    "price = re.findall(\"每人平均價位：.*\", articles[1])\n",
    "card = re.findall(\"可否刷卡：.*\", articles[1])\n",
    "box = re.findall(\"有無包廂：.*\", articles[1])\n",
    "recom = re.findall(\"推薦菜色：.*\", articles[1])\n",
    "official = re.findall(\"官網：.*\", articles[1])"
   ]
  },
  {
   "cell_type": "code",
   "execution_count": 42,
   "metadata": {
    "scrolled": true
   },
   "outputs": [
    {
     "name": "stdout",
     "output_type": "stream",
     "text": [
      "['六傳屋擔擔麵'] ['消費時間：2013年/4月(例：2010年/7月，必填項目，違者刪文)'] ['地址：京都府京都市中京区先斗町通四条上ル下樵木町199'] ['電話：075-212-9224'] ['營業時間：午餐1130-1500/晚餐1700-2300'] ['每人平均價位：1500円'] ['可否刷卡：否'] ['有無包廂：無'] ['推薦菜色：煎餃、日式炸蝦、香脆炸雞塊、黑胡麻擔擔麵、白味噌擔擔麵'] []\n"
     ]
    }
   ],
   "source": [
    "print(name, Ctime, add, tel, Btime, price, card, box, recom, official)"
   ]
  },
  {
   "cell_type": "markdown",
   "metadata": {},
   "source": [
    "## 所有店家資訊列表擷取"
   ]
  },
  {
   "cell_type": "code",
   "execution_count": 8,
   "metadata": {
    "collapsed": true
   },
   "outputs": [],
   "source": [
    "infoList = []\n",
    "for i in range(0, len(articles)):\n",
    "    infoDict = {}\n",
    "    name = re.findall(\"餐廳名稱：(.*)\", articles[i])\n",
    "    Ctime = re.findall(\"消費時間：(.*)\", articles[i])\n",
    "    add = re.findall(\"地址：(.*)\", articles[i])\n",
    "    tel = re.findall(\"電話：(.*)\", articles[i])\n",
    "    Btime = re.findall(\"營業時間：(.*)\", articles[i])\n",
    "    price = re.findall(\"每人平均價位：(.*)\", articles[i])\n",
    "    card = re.findall(\"可否刷卡：(.*)\", articles[i])\n",
    "    box = re.findall(\"有無包廂：(.*)\", articles[i])\n",
    "    recom = re.findall(\"推薦菜色：(.*)\", articles[i])\n",
    "    official = re.findall(\"官網：(.*)\", articles[i])\n",
    "    infoDict[\"餐廳名稱\"] = name\n",
    "    infoDict[\"消費時間\"] = Ctime\n",
    "    infoDict[\"地址\"] = add\n",
    "    infoDict[\"電話\"] = tel\n",
    "    infoDict[\"營業時間\"] = Btime\n",
    "    infoDict[\"每人平均價位\"] = price\n",
    "    infoDict[\"可否刷卡\"] = card\n",
    "    infoDict[\"有無包廂\"] = box\n",
    "    infoDict[\"推薦菜色\"] = recom\n",
    "    infoDict[\"官網\"] = official\n",
    "    infoList.append(infoDict)"
   ]
  },
  {
   "cell_type": "code",
   "execution_count": 9,
   "metadata": {
    "collapsed": true
   },
   "outputs": [],
   "source": [
    "f = open(\"C:\\\\Users\\\\Java\\\\Desktop\\\\food.txt\", 'w', encoding = 'UTF-8')\n",
    "file = json.dumps(infoList, ensure_ascii = False)\n",
    "f.write(file)\n",
    "f.close()"
   ]
  },
  {
   "cell_type": "markdown",
   "metadata": {},
   "source": [
    "## 擷取京都店家 (依地址)"
   ]
  },
  {
   "cell_type": "code",
   "execution_count": 137,
   "metadata": {
    "collapsed": true
   },
   "outputs": [],
   "source": [
    "f = open(\"C:\\\\Users\\\\Java\\\\Desktop\\\\kyotoFood.txt\", 'w', encoding = 'UTF-8')\n",
    "# kyoList = []\n",
    "cnt = 0\n",
    "for i in range(0, len(articles)):\n",
    "    #comb = {}\n",
    "    \n",
    "    name = re.findall(\"餐廳名稱：(.*)\", articles[i])\n",
    "    if  name == []:\n",
    "        continue\n",
    "    add = re.findall(\"地址：(.*)\", articles[i])\n",
    "    if any(word in str(add) for word in (\"京都府\", \"京都市\", \"宇治\")):\n",
    "        cnt += 1\n",
    "        if len(name) == 1:\n",
    "            f.write(str(name).replace(\"['\", \"\").replace(\"']\", \"\") + \"\\n\")\n",
    "        if len(name) == 2:\n",
    "            f.write(str(name[0]).replace(\"['\", \"\").replace(\"']\", \"\") + \"\\n\")\n",
    "            f.write(str(name[1]).replace(\"['\", \"\").replace(\"']\", \"\") + \"\\n\")\n",
    "            #         comb[str(name)] = str(add)\n",
    "#         kyoList.append(comb)\n",
    "f.close()"
   ]
  },
  {
   "cell_type": "code",
   "execution_count": 71,
   "metadata": {},
   "outputs": [
    {
     "data": {
      "text/plain": [
       "4195"
      ]
     },
     "execution_count": 71,
     "metadata": {},
     "output_type": "execute_result"
    }
   ],
   "source": [
    "len(kyoList)"
   ]
  },
  {
   "cell_type": "code",
   "execution_count": 77,
   "metadata": {},
   "outputs": [
    {
     "data": {
      "text/plain": [
       "False"
      ]
     },
     "execution_count": 77,
     "metadata": {},
     "output_type": "execute_result"
    }
   ],
   "source": [
    "any(c in \"台北市萬華區漢中街17號\" for c in (\"京都府\", \"京都市\", \"宇治\"))"
   ]
  },
  {
   "cell_type": "code",
   "execution_count": 74,
   "metadata": {
    "scrolled": true
   },
   "outputs": [
    {
     "data": {
      "text/plain": [
       "False"
      ]
     },
     "execution_count": 74,
     "metadata": {},
     "output_type": "execute_result"
    }
   ],
   "source": [
    "any({False, False})"
   ]
  },
  {
   "cell_type": "code",
   "execution_count": 131,
   "metadata": {},
   "outputs": [
    {
     "data": {
      "text/plain": [
       "False"
      ]
     },
     "execution_count": 131,
     "metadata": {},
     "output_type": "execute_result"
    }
   ],
   "source": [
    "any(word in add[0] for word in (\"京都府\", \"京都市\", \"宇治\"))"
   ]
  },
  {
   "cell_type": "code",
   "execution_count": 112,
   "metadata": {},
   "outputs": [
    {
     "ename": "IndexError",
     "evalue": "list index out of range",
     "output_type": "error",
     "traceback": [
      "\u001b[1;31m---------------------------------------------------------------------------\u001b[0m",
      "\u001b[1;31mIndexError\u001b[0m                                Traceback (most recent call last)",
      "\u001b[1;32m<ipython-input-112-5ee8a07bf7a2>\u001b[0m in \u001b[0;36m<module>\u001b[1;34m()\u001b[0m\n\u001b[1;32m----> 1\u001b[1;33m \u001b[0mre\u001b[0m\u001b[1;33m.\u001b[0m\u001b[0mfindall\u001b[0m\u001b[1;33m(\u001b[0m\u001b[1;34m\"餐廳名稱：(.*)\"\u001b[0m\u001b[1;33m,\u001b[0m \u001b[0marticles\u001b[0m\u001b[1;33m[\u001b[0m\u001b[1;36m4181\u001b[0m\u001b[1;33m]\u001b[0m\u001b[1;33m)\u001b[0m\u001b[1;33m[\u001b[0m\u001b[1;36m0\u001b[0m\u001b[1;33m]\u001b[0m\u001b[1;33m\u001b[0m\u001b[0m\n\u001b[0m",
      "\u001b[1;31mIndexError\u001b[0m: list index out of range"
     ]
    }
   ],
   "source": [
    "re.findall(\"餐廳名稱：(.*)\", articles[4181])[0]"
   ]
  },
  {
   "cell_type": "code",
   "execution_count": 130,
   "metadata": {},
   "outputs": [
    {
     "data": {
      "text/plain": [
       "'北市民生西路308號'"
      ]
     },
     "execution_count": 130,
     "metadata": {},
     "output_type": "execute_result"
    }
   ],
   "source": [
    "re.findall(\"地址：(.*)\", articles[4134])[0]"
   ]
  },
  {
   "cell_type": "code",
   "execution_count": 129,
   "metadata": {},
   "outputs": [
    {
     "data": {
      "text/plain": [
       "'[食記]台北波麗路西餐牛排時間MonApr1512:36:342013\\n\\n餐廳名稱：台北波麗路西餐牛排\\n消費時間：2013年/3月\\n地址：北市民生西路308號\\n電話：02-25560710、02-25591251\\n營業時間：10:00~22:00\\n每人平均價位：依價位+10%\\n可否刷卡：可\\n\\n\\n圖文無音樂網誌：http://blog.yam.com/ring00/article/61178441\\n\\n\\n這次來台北真是復古懷舊之旅呢(菸)\\n除了吃到京都屋鰻魚飯外，\\n也為了慶祝生日在朋友的推薦下\\n走進復古西餐廳感受開幕至今已79年的西式料理!\\n雖然跟我想像中的生日大餐差太多卻也是難得又奇異的體驗XD\\n\\n店外觀\\n位於民生西路的波麗路附近隱藏著很多老店美食\\n店外招牌白底藍、紅字，相當醒目\\n(只是不知道為什麼要用注音和簡體字)\\n餐廳外面還放有料理菜單提供民眾用餐前的參考!\\n\\n店內部\\n一入門可以看到類似假山的屏風裝飾\\n復古的色系和裝潢彷彿瞬間來到民國30年代的純情XD\\n通往二樓樓梯前是結帳櫃檯\\n而櫃檯前方就是餐廳出菜區，\\n半開放的作業空間可以看到廚師備餐情況!\\n特別的是，\\n連服務員都是白衫黑褲西裝頭實在覺得很有趣噗哧\\n\\n菜單(線上菜單請點)\\n(雖然拍了菜單，但沒拍內頁XD畢竟相機沒電用手機拍照就有點興致缺缺)\\n常見的傳統菜單外貌\\n雖然餐廳復古但價位卻沒有像30年代那般便宜喔~\\n\\n餐具酌料\\n桌面上擺有餐廳酌料\\n就是一般西餐廳都有的常見調味夥伴們!\\n入席後，\\n服務生也隨之送上印有餐廳標誌的紙巾\\n\\n湯品\\n套餐所附玉米濃湯\\n湯汁頗濃稠，除了玉米外含有胡蘿蔔、洋蔥等蔬菜\\n味道就是我們習以為常的玉米濃湯味沒有甚麼特別之處!\\n\\n餐包\\n同樣為套餐所附\\n這種小餐包真的是正中我的心頭好呀XD\\n烤的外酥內軟的外層一口咬下是融化的奶油!\\n雖然同樣沒有太大的獨特性，\\n但料理中有這一小麵包就會圓滿哈\\n\\n法國鴨子飯(NT.280)\\n以不銹鋼圓形便當盒盛裝的鴨子飯\\n模樣很令人印象深刻!\\n除了飯和配菜外，就是重點鴨子肉了~\\n肉質軟嫩的鴨肉淋上羹湯，口感很滑順\\n羹湯味道很獨特(第一次嘗試的人不見得會喜歡)\\n印象中有點偏苦(?)\\n但對於吃習慣的朋友來說，這是每到必點的料理哈\\n\\n冰島鱈魚餐(NT.410)\\n鱈魚很鮮，入口即化\\n但可惜的是吃到後面覺得頗油!\\n通心麵雖然在盤上但沒有融入料理的味道\\n需要靠醬汁提味才好入口~\\n\\n甜點水果\\n自製布丁有濃郁的雞蛋香和焦糖甜\\n是不錯的飯後甜點!\\n(雖然我還是比較愛統一XD)\\n\\n飲品(點餐附贈)\\n附贈飲品選擇不多\\n右方檸檬水甜中帶酸頗解渴!\\n\\n庭園造景\\n位於一樓戶外廁所旁\\n有小小的水池和迷你景觀花草!\\n雖然空間不大，但可以看出有精心整理\\n很讓人驚艷哈\\n\\n復古西餐廳波麗路\\n真的是沒有達人帶路不會想要踏入的一間復古西餐廳呢!\\n餐廳當中包含裝潢、服務以及餐點，\\n都有著濃濃的歲月風情!\\n讓第一次嘗試的我留下深刻印象~\\n料理部分，\\n相較於價格其實有點不划算!\\n也許是口味不合的原因\\n對我而言這樣的料理內容還要加上服務費是有點偏高的!\\n品嘗當天，\\n環顧現場客人都是年齡較高或家長帶子女~\\n很少有年輕人自己前往\\n就此可以看出餐廳的歷史悠久\\n適合懷舊的夥伴們體驗看看!\\n\\n\\n\\n2013.03.03\\n\\n'"
      ]
     },
     "execution_count": 129,
     "metadata": {},
     "output_type": "execute_result"
    }
   ],
   "source": [
    "articles[4134]"
   ]
  }
 ],
 "metadata": {
  "kernelspec": {
   "display_name": "Python 3",
   "language": "python",
   "name": "python3"
  },
  "language_info": {
   "codemirror_mode": {
    "name": "ipython",
    "version": 3
   },
   "file_extension": ".py",
   "mimetype": "text/x-python",
   "name": "python",
   "nbconvert_exporter": "python",
   "pygments_lexer": "ipython3",
   "version": "3.6.1"
  }
 },
 "nbformat": 4,
 "nbformat_minor": 2
}
